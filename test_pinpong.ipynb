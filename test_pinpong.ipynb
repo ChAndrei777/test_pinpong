{
 "cells": [
  {
   "cell_type": "markdown",
   "metadata": {},
   "source": [
    "this code is taken from http://docs.lattepanda.com/content/IO_Playability/Blink/"
   ]
  },
  {
   "cell_type": "code",
   "execution_count": 1,
   "metadata": {},
   "outputs": [
    {
     "name": "stdout",
     "output_type": "stream",
     "text": [
      "\n",
      "  __________________________________________\n",
      " |    ____  _       ____                    |\n",
      " |   / __ \\(_)___  / __ \\____  ____  ____ _ |\n",
      " |  / /_/ / / __ \\/ /_/ / __ \\/ __ \\/ __ `/ |\n",
      " | / ____/ / / / / ____/ /_/ / / / / /_/ /  |\n",
      " |/_/   /_/_/ /_/_/    \\____/_/ /_/\\__, /   |\n",
      " |   v0.5.2  Designed by DFRobot  /____/    |\n",
      " |__________________________________________|\n",
      " \n",
      "[01] Python3.8.10 Linux-5.15.0-67-generic-x86_64-with-glibc2.29 Board: LEONARDO\n",
      "selected -> board: LEONARDO serial: /dev/ttyACM0\n",
      "[10] Opening /dev/ttyACM0\n",
      "[32] Firmata ID: 2.7\n",
      "[22] Arduino compatible device found and connected to /dev/ttyACM0\n",
      "[40] Retrieving analog map...\n",
      "[42] Auto-discovery complete. Found 20 Digital Pins and 6 Analog Pins\n",
      "------------------------------\n",
      "All right. PinPong go...\n",
      "------------------------------\n",
      "1\n",
      "0\n",
      "1\n",
      "0\n",
      "1\n",
      "0\n",
      "1\n",
      "0\n",
      "1\n",
      "0\n",
      "1\n",
      "0\n",
      "1\n",
      "0\n",
      "1\n",
      "user quit process\n"
     ]
    },
    {
     "ename": "SystemExit",
     "evalue": "0",
     "output_type": "error",
     "traceback": [
      "An exception has occurred, use %tb to see the full traceback.\n",
      "\u001b[0;31mSystemExit\u001b[0m\u001b[0;31m:\u001b[0m 0\n"
     ]
    },
    {
     "name": "stderr",
     "output_type": "stream",
     "text": [
      "/home/panda/.local/lib/python3.8/site-packages/IPython/core/interactiveshell.py:3516: UserWarning: To exit: use 'exit', 'quit', or Ctrl-D.\n",
      "  warn(\"To exit: use 'exit', 'quit', or Ctrl-D.\", stacklevel=1)\n"
     ]
    },
    {
     "name": "stdout",
     "output_type": "stream",
     "text": [
      "/dev/ttyACM0 lost, quit process\n",
      "user quit process\n"
     ]
    }
   ],
   "source": [
    "import time\n",
    "from pinpong.board import Board,Pin\n",
    "\n",
    "Board(\"leonardo\",\"/dev/ttyACM0\").begin() #Specify the port initialization under Linux\n",
    "led = Pin(Pin.D13, Pin.OUT) #Pin initialization as level output\n",
    "\n",
    "while True:\n",
    "\n",
    "    #led.value(1) #Output high level method 1\n",
    "\n",
    "    led.write_digital(1) #Output high level method 2\n",
    "\n",
    "    print(\"1\") #Terminal printing information.\n",
    "\n",
    "    time.sleep(1) #Wait for 1 second and keep the state\n",
    "\n",
    "    #led.value(0) #Output Low Level Method 1\n",
    "\n",
    "    led.write_digital(0) #Output Low Level Method 1\n",
    "\n",
    "    print(\"0\") #Terminal printing information.\n",
    "\n",
    "    time.sleep(1) #Wait for 1 second and keep the state"
   ]
  }
 ],
 "metadata": {
  "kernelspec": {
   "display_name": "Python 3",
   "language": "python",
   "name": "python3"
  },
  "language_info": {
   "codemirror_mode": {
    "name": "ipython",
    "version": 3
   },
   "file_extension": ".py",
   "mimetype": "text/x-python",
   "name": "python",
   "nbconvert_exporter": "python",
   "pygments_lexer": "ipython3",
   "version": "3.8.10"
  }
 },
 "nbformat": 4,
 "nbformat_minor": 2
}
